{
 "cells": [
  {
   "cell_type": "code",
   "execution_count": 1,
   "id": "c19c0f5f-8dca-42f7-9951-7f2e085415bd",
   "metadata": {},
   "outputs": [],
   "source": [
    "word2id = {\"闲聊\":0,\"咨询\":1,\"转人工\":2}\n",
    "id2word = {0:\"闲聊\",1:\"咨询\",2:\"转人工\"}"
   ]
  },
  {
   "cell_type": "code",
   "execution_count": 2,
   "id": "618a58f5-51fe-44eb-8390-85b4b9418f70",
   "metadata": {},
   "outputs": [],
   "source": [
    "# 打开文件，'r' 表示以只读模式打开\n",
    "with open('./data/Insurance/QA.txt', 'r', encoding='utf-8') as file:\n",
    "    # 使用 read() 方法读取文件的全部内容\n",
    "    lines = file.readlines()\n",
    "content = [line.strip() for line in lines]\n",
    "\n",
    "data_list = []\n",
    "for i in range(len(content)):\n",
    "    dict_temp = {}\n",
    "    dict_temp[\"sentence\"] = content[i]\n",
    "    dict_temp[\"label\"] = \"咨询\"\n",
    "    data_list.append(dict_temp)\n",
    "\n",
    "## 闲聊\n",
    "with open('./data/Insurance/chat.txt', 'r', encoding='utf-8') as file:\n",
    "    # 使用 read() 方法读取文件的全部内容\n",
    "    lines = file.readlines()\n",
    "content = [line.strip() for line in lines]\n",
    "\n",
    "for i in range(len(content)):\n",
    "    dict_temp = {}\n",
    "    dict_temp[\"sentence\"] = content[i]\n",
    "    dict_temp[\"label\"] = \"闲聊\"\n",
    "    data_list.append(dict_temp)\n",
    "\n",
    "## 人工\n",
    "with open('./data/Insurance/human.txt', 'r', encoding='utf-8') as file:\n",
    "    # 使用 read() 方法读取文件的全部内容\n",
    "    lines = file.readlines()\n",
    "content = [line.strip() for line in lines]\n",
    "\n",
    "for i in range(len(content)):\n",
    "    dict_temp = {}\n",
    "    dict_temp[\"sentence\"] = content[i]\n",
    "    dict_temp[\"label\"] = \"转人工\"\n",
    "    data_list.append(dict_temp)\n"
   ]
  },
  {
   "cell_type": "code",
   "execution_count": 3,
   "id": "31e46ef3-aa86-46a5-86f5-6c64ca311a2e",
   "metadata": {},
   "outputs": [],
   "source": [
    "data_id_list = data_list\n",
    "for i in range(len(data_list)):\n",
    "    data_id_list[i][\"label\"] = word2id[data_list[i][\"label\"]]"
   ]
  },
  {
   "cell_type": "code",
   "execution_count": 4,
   "id": "e673a4e8-ffc9-49af-9aea-f0cfd1a6d075",
   "metadata": {},
   "outputs": [
    {
     "name": "stdout",
     "output_type": "stream",
     "text": [
      "训练集长度: 166\n",
      "测试集长度: 42\n"
     ]
    }
   ],
   "source": [
    "import random\n",
    "\n",
    "def split_list_by_ratio(lst, ratio=0.2):\n",
    "    \"\"\"\n",
    "    将列表lst按照指定比例ratio随机切分成两个子列表。\n",
    "    \n",
    "    参数:\n",
    "    lst -- 要切分的列表\n",
    "    ratio -- 切分比例，例如0.2表示20%的数据放在一个列表，剩余80%放在另一个列表\n",
    "    \n",
    "    返回:\n",
    "    两个子列表\n",
    "    \"\"\"\n",
    "    # 复制列表以避免修改原列表\n",
    "    shuffled_lst = lst.copy()\n",
    "    random.shuffle(shuffled_lst)\n",
    "    \n",
    "    # 计算分割点\n",
    "    split_point = int(len(shuffled_lst) * ratio)\n",
    "    \n",
    "    # 切分列表\n",
    "    sublist1 = shuffled_lst[:split_point]\n",
    "    sublist2 = shuffled_lst[split_point:]\n",
    "    \n",
    "    return sublist1, sublist2\n",
    "\n",
    "# 示例使用\n",
    "train_data, test_data = split_list_by_ratio(data_id_list, 0.8)\n",
    "\n",
    "print(\"训练集长度:\", len(train_data))\n",
    "print(\"测试集长度:\", len(test_data))"
   ]
  },
  {
   "cell_type": "code",
   "execution_count": 5,
   "id": "25208686-946a-40f1-b07a-9db19cf64c70",
   "metadata": {},
   "outputs": [],
   "source": [
    "import json\n",
    "with open('./data/Insurance/train_list_data.jsonl', 'w', encoding='utf-8') as file:\n",
    "    # 使用 read() 方法读取文件的全部内容\n",
    "    json.dump(train_data, file, ensure_ascii=False)\n",
    "with open('./data/Insurance/test_list_data.jsonl', 'w', encoding='utf-8') as file:\n",
    "    # 使用 read() 方法读取文件的全部内容\n",
    "    json.dump(test_data, file, ensure_ascii=False)"
   ]
  }
 ],
 "metadata": {
  "kernelspec": {
   "display_name": "Python 3 (ipykernel)",
   "language": "python",
   "name": "python3"
  },
  "language_info": {
   "codemirror_mode": {
    "name": "ipython",
    "version": 3
   },
   "file_extension": ".py",
   "mimetype": "text/x-python",
   "name": "python",
   "nbconvert_exporter": "python",
   "pygments_lexer": "ipython3",
   "version": "3.10.8"
  }
 },
 "nbformat": 4,
 "nbformat_minor": 5
}

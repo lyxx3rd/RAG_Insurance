{
 "cells": [
  {
   "cell_type": "code",
   "execution_count": 2,
   "id": "beda56e0-5b36-4985-95e3-ec778386d067",
   "metadata": {},
   "outputs": [
    {
     "ename": "NameError",
     "evalue": "name 'ssearcher' is not defined",
     "output_type": "error",
     "traceback": [
      "\u001b[0;31m---------------------------------------------------------------------------\u001b[0m",
      "\u001b[0;31mNameError\u001b[0m                                 Traceback (most recent call last)",
      "Cell \u001b[0;32mIn[2], line 8\u001b[0m\n\u001b[1;32m      6\u001b[0m encoder_QA \u001b[38;5;241m=\u001b[39m AutoQueryEncoder(\u001b[38;5;124m'\u001b[39m\u001b[38;5;124m./Model/mixed_model_1\u001b[39m\u001b[38;5;124m'\u001b[39m)\n\u001b[1;32m      7\u001b[0m dsearcher_QA \u001b[38;5;241m=\u001b[39m FaissSearcher(index_dir \u001b[38;5;241m=\u001b[39m \u001b[38;5;124m\"\u001b[39m\u001b[38;5;124m./indexes/Insurance/dense_index/QA_index\u001b[39m\u001b[38;5;124m\"\u001b[39m,query_encoder \u001b[38;5;241m=\u001b[39m encoder_QA)\n\u001b[0;32m----> 8\u001b[0m hsearcher_QA \u001b[38;5;241m=\u001b[39m HybridSearcher(dsearcher_QA, \u001b[43mssearcher\u001b[49m)\n\u001b[1;32m     10\u001b[0m qa_dict \u001b[38;5;241m=\u001b[39m []\n\u001b[1;32m     11\u001b[0m \u001b[38;5;28;01mwith\u001b[39;00m \u001b[38;5;28mopen\u001b[39m(\u001b[38;5;124m\"\u001b[39m\u001b[38;5;124m./RAG_data/QA_jsonl/QA_list.jsonl\u001b[39m\u001b[38;5;124m\"\u001b[39m, \u001b[38;5;124m'\u001b[39m\u001b[38;5;124mr\u001b[39m\u001b[38;5;124m'\u001b[39m, encoding\u001b[38;5;241m=\u001b[39m\u001b[38;5;124m'\u001b[39m\u001b[38;5;124mutf-8\u001b[39m\u001b[38;5;124m'\u001b[39m) \u001b[38;5;28;01mas\u001b[39;00m f:\n",
      "\u001b[0;31mNameError\u001b[0m: name 'ssearcher' is not defined"
     ]
    }
   ],
   "source": [
    "from pyserini.search.lucene import LuceneSearcher\n",
    "from pyserini.search.faiss import FaissSearcher, AutoQueryEncoder\n",
    "from pyserini.search.hybrid import HybridSearcher\n",
    "\n",
    "ssearcher_QA = LuceneSearcher('./indexes/Insurance/bm25_index/QA_index')\n",
    "encoder_QA = AutoQueryEncoder('./Model/mixed_model_1')\n",
    "dsearcher_QA = FaissSearcher(index_dir = \"./indexes/Insurance/dense_index/QA_index\",query_encoder = encoder_QA)\n",
    "hsearcher_QA = HybridSearcher(dsearcher_QA, ssearcher_QA)\n",
    "\n",
    "qa_dict = []\n",
    "with open(\"./RAG_data/QA_jsonl/QA_list.jsonl\", 'r', encoding='utf-8') as f:\n",
    "    for line in f:\n",
    "        # 每一行都是一个JSON字符串，使用json.loads转换为字典\n",
    "        qa_dict.append(json.loads(line.strip()))"
   ]
  }
 ],
 "metadata": {
  "kernelspec": {
   "display_name": "Python 3 (ipykernel)",
   "language": "python",
   "name": "python3"
  },
  "language_info": {
   "codemirror_mode": {
    "name": "ipython",
    "version": 3
   },
   "file_extension": ".py",
   "mimetype": "text/x-python",
   "name": "python",
   "nbconvert_exporter": "python",
   "pygments_lexer": "ipython3",
   "version": "3.10.8"
  }
 },
 "nbformat": 4,
 "nbformat_minor": 5
}

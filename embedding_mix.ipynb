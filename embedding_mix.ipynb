{
 "cells": [
  {
   "cell_type": "code",
   "execution_count": 3,
   "id": "15146e2c-af7a-4272-b75d-2da227105406",
   "metadata": {},
   "outputs": [
    {
     "name": "stdout",
     "output_type": "stream",
     "text": [
      "loading ./Model/bge-m3 -----------------\n",
      "loading ./Model/Stf_model -----------------\n",
      "***weight for each model***: \n",
      "./Model/bge-m3 0.6\n",
      "./Model/Stf_model 0.4\n",
      "Saving the new model to ./Model/mixed_model_1\n",
      "Transform the model to the format of 'sentence_transformers' (pooling_method='cls', normalized=True)\n"
     ]
    }
   ],
   "source": [
    "from LM_Cocktail import mix_models, mix_models_with_data\n",
    "\n",
    "# Mix fine-tuned model and base model; then save it to output_path: ./mixed_model_1\n",
    "model = mix_models(\n",
    "    model_names_or_paths=[\"./Model/bge-m3\",\"./Model/Stf_model\"], \n",
    "    model_type='encoder', \n",
    "    weights=[0.6, 0.4],  # you can change the weights to get a better trade-off.\n",
    "    output_path='./Model/mixed_model_1')"
   ]
  }
 ],
 "metadata": {
  "kernelspec": {
   "display_name": "Python 3 (ipykernel)",
   "language": "python",
   "name": "python3"
  },
  "language_info": {
   "codemirror_mode": {
    "name": "ipython",
    "version": 3
   },
   "file_extension": ".py",
   "mimetype": "text/x-python",
   "name": "python",
   "nbconvert_exporter": "python",
   "pygments_lexer": "ipython3",
   "version": "3.10.8"
  }
 },
 "nbformat": 4,
 "nbformat_minor": 5
}

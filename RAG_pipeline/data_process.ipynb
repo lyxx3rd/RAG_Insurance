{
 "cells": [
  {
   "cell_type": "code",
   "execution_count": 15,
   "id": "1b682712-95e0-436a-a280-60705d4d90e9",
   "metadata": {},
   "outputs": [],
   "source": [
    "import json\n",
    "\n",
    "# 使用json.load()方法从JSON文件中加载数据\n",
    "with open(\"./data/qa_pairs_train.json\", 'r', encoding='utf-8') as f:\n",
    "    qa_pairs_train = json.load(f)\n",
    "\n",
    "# 使用json.load()方法从JSON文件中加载数据\n",
    "with open(\"./data/qa_pairs_test.json\", 'r', encoding='utf-8') as f:\n",
    "    qa_pairs_test = json.load(f)"
   ]
  },
  {
   "cell_type": "code",
   "execution_count": 16,
   "id": "7179e135-ea66-40dd-98d4-f2476a4f6c74",
   "metadata": {},
   "outputs": [],
   "source": [
    "query_dict = {}\n",
    "for q, a in qa_pairs_train:\n",
    "    query_dict[q] = a\n",
    "with open(\"./data/query_dict.json\", 'w', encoding='utf-8') as f:\n",
    "    json.dump(query_dict, f, ensure_ascii=False)\n",
    "\n",
    "test_dict = {}\n",
    "for q, a in qa_pairs_test:\n",
    "    test_dict[q] = a\n",
    "with open(\"./data/test_dict.json\", 'w', encoding='utf-8') as f:\n",
    "    json.dump(test_dict, f, ensure_ascii=False)\n"
   ]
  },
  {
   "cell_type": "code",
   "execution_count": 17,
   "id": "a0ed63fa-9bfc-4c31-bb2d-5da0d3d290cf",
   "metadata": {},
   "outputs": [],
   "source": [
    "q_list_test = []\n",
    "for i in range(len(qa_pairs_test)):\n",
    "    q_list_test.append(qa_pairs_test[i][0])\n",
    "with open(\"./data/q_list_test.json\", 'w', encoding='utf-8') as f:\n",
    "    json.dump(q_list_test, f, ensure_ascii=False)"
   ]
  },
  {
   "cell_type": "code",
   "execution_count": 18,
   "id": "9c671315-eae6-4896-b916-5ba6cd05a33b",
   "metadata": {},
   "outputs": [],
   "source": [
    "q_list_train = []\n",
    "for i in range(len(qa_pairs_train)):\n",
    "    current_dict = {}\n",
    "    current_dict[\"id\"] = i\n",
    "    current_dict[\"contents\"] = qa_pairs_train[i][0]\n",
    "    q_list_train.append(current_dict)\n"
   ]
  },
  {
   "cell_type": "code",
   "execution_count": 19,
   "id": "4cc51098-783d-4ac9-960d-ec16d53c102e",
   "metadata": {},
   "outputs": [
    {
     "name": "stdout",
     "output_type": "stream",
     "text": [
      "数据已成功保存到q_list_train.jsonl\n"
     ]
    }
   ],
   "source": [
    "# 打开文件并逐行写入每个字典的JSON格式\n",
    "with open(\"./RAG_data/q_list_train.jsonl\", 'w', encoding='utf-8') as f:\n",
    "    for d in q_list_train:\n",
    "        # 使用json.dumps()将字典转换为JSON字符串，并写入文件，末尾不加逗号，而是换行符\n",
    "        f.write(json.dumps(d, ensure_ascii=False) + '\\n')\n",
    "\n",
    "print(\"数据已成功保存到q_list_train.jsonl\")"
   ]
  },
  {
   "cell_type": "code",
   "execution_count": 22,
   "id": "475f8faf-6194-41af-9f03-aa9a2e177a87",
   "metadata": {},
   "outputs": [
    {
     "data": {
      "text/plain": [
       "'产品发生变更调整的时候，福利变化/提升和昂贵医院的调整会影响到我的保单吗？'"
      ]
     },
     "execution_count": 22,
     "metadata": {},
     "output_type": "execute_result"
    }
   ],
   "source": [
    "q_list_test[0]"
   ]
  },
  {
   "cell_type": "code",
   "execution_count": 25,
   "id": "8c426ff4-f801-4ed0-abbb-ed0e7ae7667c",
   "metadata": {},
   "outputs": [
    {
     "name": "stdout",
     "output_type": "stream",
     "text": [
      "数据已成功保存到./data/qa_data.tsv\n"
     ]
    }
   ],
   "source": [
    "# 指定要保存的TSV文件名\n",
    "filename = \"./data/qa_data.tsv\"\n",
    "i = 0\n",
    "# 打开文件准备写入\n",
    "with open(filename, 'w', encoding='utf-8') as tsvfile:\n",
    "    # 直接写入每行数据，因为每个字符串已经是制表符分隔的\n",
    "    for line in q_list_test:\n",
    "        tsvfile.write(str(i) + '\\t' +line + '\\n')\n",
    "        i += 1\n",
    "\n",
    "print(f\"数据已成功保存到{filename}\")"
   ]
  }
 ],
 "metadata": {
  "kernelspec": {
   "display_name": "Python 3 (ipykernel)",
   "language": "python",
   "name": "python3"
  },
  "language_info": {
   "codemirror_mode": {
    "name": "ipython",
    "version": 3
   },
   "file_extension": ".py",
   "mimetype": "text/x-python",
   "name": "python",
   "nbconvert_exporter": "python",
   "pygments_lexer": "ipython3",
   "version": "3.10.8"
  }
 },
 "nbformat": 4,
 "nbformat_minor": 5
}
